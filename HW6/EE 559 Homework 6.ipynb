{
 "cells": [
  {
   "cell_type": "markdown",
   "metadata": {},
   "source": [
    "# EE 559 Homework 6\n",
    "\n",
    "## Name: Ishaan Vasant \n",
    "## USC ID: 6989-5065-37"
   ]
  },
  {
   "cell_type": "markdown",
   "metadata": {},
   "source": [
    "### 1. Multi-class and Multi-Label Classification Using Support Vector Machines"
   ]
  },
  {
   "cell_type": "markdown",
   "metadata": {},
   "source": [
    "### (a) Download the Anuran Calls (MFCCs) Data Set from: https://archive.ics.uci.edu/ml/datasets/Anuran+Calls+%28MFCCs). Choose 70% of the data randomly as the training set.\n"
   ]
  },
  {
   "cell_type": "code",
   "execution_count": 83,
   "metadata": {},
   "outputs": [],
   "source": [
    "import pandas as pd\n",
    "import numpy as np"
   ]
  },
  {
   "cell_type": "code",
   "execution_count": 84,
   "metadata": {},
   "outputs": [
    {
     "name": "stdout",
     "output_type": "stream",
     "text": [
      "/Users/ishaan/Desktop/Anuran Calls (MFCCs)\n"
     ]
    }
   ],
   "source": [
    "cd /Users/ishaan/Desktop/Anuran Calls (MFCCs)"
   ]
  },
  {
   "cell_type": "code",
   "execution_count": 85,
   "metadata": {},
   "outputs": [],
   "source": [
    "df= pd.read_csv(\"Frogs_MFCCs.csv\")"
   ]
  },
  {
   "cell_type": "code",
   "execution_count": 87,
   "metadata": {},
   "outputs": [],
   "source": [
    "X= df.drop(['Family','Genus','Species','RecordID'], axis=1)\n",
    "Y1= df.Family\n",
    "Y2=df.Genus\n",
    "Y3=df.Species\n",
    "frames=[Y1,Y2,Y3]\n",
    "Y=pd.concat(frames,axis=1)"
   ]
  },
  {
   "cell_type": "code",
   "execution_count": 88,
   "metadata": {},
   "outputs": [],
   "source": [
    "from sklearn.model_selection import train_test_split\n",
    "Xtrain, Xtest, Ytrain, Ytest = train_test_split(X, Y, test_size=0.3)"
   ]
  },
  {
   "cell_type": "code",
   "execution_count": 89,
   "metadata": {},
   "outputs": [],
   "source": [
    "Y1train=Ytrain.Family\n",
    "Y2train=Ytrain.Genus\n",
    "Y3train=Ytrain.Species\n",
    "Y1test=Ytest.Family\n",
    "Y2test=Ytest.Genus\n",
    "Y3test=Ytest.Species"
   ]
  },
  {
   "cell_type": "markdown",
   "metadata": {},
   "source": [
    "### (b) Each instance has three labels: Families, Genus, and Species. Each of the labels has multiple classes. We wish to solve a multi-class and multi-label problem. One of the most important approaches to multi-class classification is to train a classifier for each label. We first try this approach:\n",
    "\n",
    "### i. Research exact match and hamming score/ loss methods for evaluating multi- label classification and use them in evaluating the classifiers in this problem."
   ]
  },
  {
   "cell_type": "markdown",
   "metadata": {},
   "source": [
    "#### Exact match is calculated using accuracy_score() and Hamming loss is calculated using hamming_loss(). These packages do not work for the multilabel problem. Therefore, the following functions were defined:-"
   ]
  },
  {
   "cell_type": "code",
   "execution_count": 218,
   "metadata": {},
   "outputs": [],
   "source": [
    "def accuracy(M,N):\n",
    "    count=0\n",
    "    for i in range(0,len(M)):\n",
    "        if (M.iloc[i,0]==N.iloc[i,0] and M.iloc[i,1]==N.iloc[i,1] and M.iloc[i,2]==N.iloc[i,2]):\n",
    "            count=count+1\n",
    "    acc=count/len(M)\n",
    "    return(acc)\n",
    "        \n",
    "    \n",
    "    "
   ]
  },
  {
   "cell_type": "code",
   "execution_count": 222,
   "metadata": {},
   "outputs": [],
   "source": [
    "def hamming(M,N):\n",
    "    count1=0\n",
    "    total=0\n",
    "    for i in range(0,len(M)):\n",
    "        count=0\n",
    "        for j in range(0,3):\n",
    "            if M.iloc[i,j]==N.iloc[i,j]:\n",
    "                count=count+1\n",
    "        count1=count/3\n",
    "        total=total+count1\n",
    "    score=total/len(M)\n",
    "    return(1-score)\n",
    "        "
   ]
  },
  {
   "cell_type": "markdown",
   "metadata": {},
   "source": [
    "### ii. Train a SVM for each of the labels, using Gaussian kernels and one versus all classifiers. Determine the weight of the SVM penalty and the width of the Gaussian Kernel using 10 fold cross validation."
   ]
  },
  {
   "cell_type": "code",
   "execution_count": 213,
   "metadata": {},
   "outputs": [],
   "source": [
    "from sklearn.svm import SVC\n",
    "from sklearn.metrics import accuracy_score\n",
    "from sklearn.metrics import hamming_loss"
   ]
  },
  {
   "cell_type": "code",
   "execution_count": 102,
   "metadata": {},
   "outputs": [
    {
     "name": "stdout",
     "output_type": "stream",
     "text": [
      "10\n",
      "3.1249999999999996\n"
     ]
    }
   ],
   "source": [
    "from sklearn.model_selection import cross_val_score\n",
    "Best_CVscore=0\n",
    "Best_C=0\n",
    "Best_gamma=0\n",
    "C=[0.001,0.01,0.1,1,10,100,1000,10000,100000]\n",
    "for i in C:\n",
    "    for j in [float(m)/100 for m in range(10,201,10)]:\n",
    "        model=SVC(kernel='rbf',C=i,gamma=1/(2*j*j))\n",
    "        CV_score = cross_val_score(model, Xtrain, Y1train, cv=10, scoring='accuracy')  \n",
    "        Mean_score  =  np.mean(CV_score)\n",
    "        if Mean_score > Best_CVscore:\n",
    "            Best_CVscore = Mean_score\n",
    "            Best_C=i\n",
    "            Best_gamma=1/(2*j*j)\n",
    "             \n",
    "print(Best_C)\n",
    "print(Best_gamma)\n",
    "    "
   ]
  },
  {
   "cell_type": "code",
   "execution_count": 103,
   "metadata": {},
   "outputs": [],
   "source": [
    "clf = SVC(kernel='rbf',C=Best_C,gamma=Best_gamma)\n",
    "clf.fit(Xtrain, Y1train)\n",
    "Y1predict=clf.predict(Xtest)"
   ]
  },
  {
   "cell_type": "code",
   "execution_count": 107,
   "metadata": {},
   "outputs": [
    {
     "name": "stdout",
     "output_type": "stream",
     "text": [
      "10\n",
      "3.1249999999999996\n"
     ]
    }
   ],
   "source": [
    "Best_CVscore2=0\n",
    "Best_C2=0\n",
    "Best_gamma2=0\n",
    "C=[0.001,0.01,0.1,1,10,100,1000,10000,100000]\n",
    "for i in C:\n",
    "    for j in [float(m)/100 for m in range(10,201,10)]:\n",
    "        model=SVC(kernel='rbf',C=i,gamma=1/(2*j*j))\n",
    "        CV_score = cross_val_score(model, Xtrain, Y2train, cv=10, scoring='accuracy')  \n",
    "        Mean_score  =  np.mean(CV_score)\n",
    "        if Mean_score > Best_CVscore2:\n",
    "            Best_CVscore2 = Mean_score\n",
    "            Best_C2=i\n",
    "            Best_gamma2=1/(2*j*j)\n",
    "             \n",
    "print(Best_C2)\n",
    "print(Best_gamma2)"
   ]
  },
  {
   "cell_type": "code",
   "execution_count": 108,
   "metadata": {},
   "outputs": [],
   "source": [
    "clf = SVC(kernel='rbf',C=Best_C2,gamma=Best_gamma2)\n",
    "clf.fit(Xtrain, Y2train)\n",
    "Y2predict=clf.predict(Xtest)"
   ]
  },
  {
   "cell_type": "code",
   "execution_count": 111,
   "metadata": {},
   "outputs": [
    {
     "name": "stdout",
     "output_type": "stream",
     "text": [
      "10\n",
      "2.0\n"
     ]
    }
   ],
   "source": [
    "Best_CVscore3=0\n",
    "Best_C3=0\n",
    "Best_gamma3=0\n",
    "C=[0.001,0.01,0.1,1,10,100,1000,10000,100000]\n",
    "for i in C:\n",
    "    for j in [float(m)/100 for m in range(10,201,10)]:\n",
    "        model=SVC(kernel='rbf',C=i,gamma=1/(2*j*j))\n",
    "        CV_score = cross_val_score(model, Xtrain, Y3train, cv=10, scoring='accuracy')  \n",
    "        Mean_score  =  np.mean(CV_score)\n",
    "        if Mean_score > Best_CVscore3:\n",
    "            Best_CVscore3 = Mean_score\n",
    "            Best_C3=i\n",
    "            Best_gamma3=1/(2*j*j)\n",
    "             \n",
    "print(Best_C3)\n",
    "print(Best_gamma3)"
   ]
  },
  {
   "cell_type": "code",
   "execution_count": 112,
   "metadata": {},
   "outputs": [],
   "source": [
    "clf = SVC(kernel='rbf',C=Best_C3,gamma=Best_gamma3)\n",
    "clf.fit(Xtrain, Y3train)\n",
    "Y3predict=clf.predict(Xtest)"
   ]
  },
  {
   "cell_type": "code",
   "execution_count": 215,
   "metadata": {},
   "outputs": [],
   "source": [
    "Y1predict=pd.Series(Y1predict)\n",
    "Y2predict=pd.Series(Y2predict)\n",
    "Y3predict=pd.Series(Y3predict)\n",
    "\n",
    "frames1=[Y1predict, Y2predict, Y3predict]\n",
    "YpredictA=pd.concat(frames1,axis=1)"
   ]
  },
  {
   "cell_type": "code",
   "execution_count": 219,
   "metadata": {},
   "outputs": [
    {
     "data": {
      "text/plain": [
       "0.9087540528022232"
      ]
     },
     "execution_count": 219,
     "metadata": {},
     "output_type": "execute_result"
    }
   ],
   "source": [
    "accuracy(Ytest,YpredictA)"
   ]
  },
  {
   "cell_type": "code",
   "execution_count": 223,
   "metadata": {},
   "outputs": [
    {
     "data": {
      "text/plain": [
       "0.05635324996140134"
      ]
     },
     "execution_count": 223,
     "metadata": {},
     "output_type": "execute_result"
    }
   ],
   "source": [
    "hamming(Ytest,YpredictA)"
   ]
  },
  {
   "cell_type": "markdown",
   "metadata": {},
   "source": [
    "#### Exact match = 0.9087540528022232\n",
    "#### Hamming Loss = 0.05635324996140134"
   ]
  },
  {
   "cell_type": "markdown",
   "metadata": {},
   "source": [
    "### iii. Repeat 1(b)ii with L1-penalized SVMs."
   ]
  },
  {
   "cell_type": "markdown",
   "metadata": {},
   "source": [
    "#### The values in the CSV file have already been normalized."
   ]
  },
  {
   "cell_type": "code",
   "execution_count": 115,
   "metadata": {},
   "outputs": [],
   "source": [
    "from sklearn.svm import LinearSVC"
   ]
  },
  {
   "cell_type": "code",
   "execution_count": 117,
   "metadata": {},
   "outputs": [
    {
     "name": "stdout",
     "output_type": "stream",
     "text": [
      "1\n"
     ]
    }
   ],
   "source": [
    "Best_CVscore4=0\n",
    "Best_C4=0\n",
    "\n",
    "C=[0.001,0.01,0.1,1,10,100,1000,10000,100000]\n",
    "for i in C:\n",
    "    model=LinearSVC(penalty='l1',dual=False, C=i)\n",
    "    CV_score = cross_val_score(model, Xtrain, Y1train, cv=10, scoring='accuracy')  \n",
    "    Mean_score  =  np.mean(CV_score)\n",
    "    if Mean_score > Best_CVscore4:\n",
    "        Best_CVscore4 = Mean_score\n",
    "        Best_C4=i\n",
    "             \n",
    "print(Best_C4)"
   ]
  },
  {
   "cell_type": "code",
   "execution_count": 129,
   "metadata": {},
   "outputs": [],
   "source": [
    "clf = LinearSVC(penalty='l1',dual=False,C=Best_C4)\n",
    "clf.fit(Xtrain, Y1train)\n",
    "Y4predict=clf.predict(Xtest)"
   ]
  },
  {
   "cell_type": "code",
   "execution_count": 121,
   "metadata": {},
   "outputs": [
    {
     "name": "stdout",
     "output_type": "stream",
     "text": [
      "100000\n"
     ]
    }
   ],
   "source": [
    "Best_CVscore5=0\n",
    "Best_C5=0\n",
    "\n",
    "C=[0.001,0.01,0.1,1,10,100,1000,10000,100000]\n",
    "for i in C:\n",
    "    model=LinearSVC(penalty='l1',dual=False,C=i)\n",
    "    CV_score = cross_val_score(model, Xtrain, Y2train, cv=10, scoring='accuracy')  \n",
    "    Mean_score  =  np.mean(CV_score)\n",
    "    if Mean_score > Best_CVscore5:\n",
    "        Best_CVscore5 = Mean_score\n",
    "        Best_C5=i\n",
    "             \n",
    "print(Best_C5)"
   ]
  },
  {
   "cell_type": "code",
   "execution_count": 132,
   "metadata": {},
   "outputs": [],
   "source": [
    "clf = LinearSVC(penalty='l1',dual=False,C=Best_C5)\n",
    "clf.fit(Xtrain, Y2train)\n",
    "Y5predict=clf.predict(Xtest)"
   ]
  },
  {
   "cell_type": "code",
   "execution_count": 125,
   "metadata": {},
   "outputs": [
    {
     "name": "stdout",
     "output_type": "stream",
     "text": [
      "100\n"
     ]
    }
   ],
   "source": [
    "Best_CVscore6=0\n",
    "Best_C6=0\n",
    "\n",
    "C=[0.001,0.01,0.1,1,10,100,1000,10000,100000]\n",
    "for i in C:\n",
    "    model=LinearSVC(penalty='l1',dual=False,C=i)\n",
    "    CV_score = cross_val_score(model, Xtrain, Y3train, cv=10, scoring='accuracy')  \n",
    "    Mean_score  =  np.mean(CV_score)\n",
    "    if Mean_score > Best_CVscore6:\n",
    "        Best_CVscore6 = Mean_score\n",
    "        Best_C6=i\n",
    "             \n",
    "print(Best_C6)"
   ]
  },
  {
   "cell_type": "code",
   "execution_count": 135,
   "metadata": {},
   "outputs": [],
   "source": [
    "clf = LinearSVC(penalty='l1',dual=False,C=Best_C6)\n",
    "clf.fit(Xtrain, Y3train)\n",
    "Y6predict=clf.predict(Xtest)"
   ]
  },
  {
   "cell_type": "code",
   "execution_count": 216,
   "metadata": {},
   "outputs": [],
   "source": [
    "Y4predict=pd.Series(Y4predict)\n",
    "Y5predict=pd.Series(Y5predict)\n",
    "Y6predict=pd.Series(Y6predict)\n",
    "\n",
    "frames2=[Y4predict, Y5predict, Y6predict]\n",
    "YpredictB=pd.concat(frames2,axis=1)"
   ]
  },
  {
   "cell_type": "code",
   "execution_count": 220,
   "metadata": {},
   "outputs": [
    {
     "data": {
      "text/plain": [
       "0.9092172301991662"
      ]
     },
     "execution_count": 220,
     "metadata": {},
     "output_type": "execute_result"
    }
   ],
   "source": [
    "accuracy(Ytest,YpredictB)"
   ]
  },
  {
   "cell_type": "code",
   "execution_count": 224,
   "metadata": {},
   "outputs": [
    {
     "data": {
      "text/plain": [
       "0.05604446503010596"
      ]
     },
     "execution_count": 224,
     "metadata": {},
     "output_type": "execute_result"
    }
   ],
   "source": [
    "hamming(Ytest,YpredictB)"
   ]
  },
  {
   "cell_type": "markdown",
   "metadata": {},
   "source": [
    "#### Exact Match = 0.9092172301991662\n",
    "#### Hamming Loss = 0.05604446503010596"
   ]
  },
  {
   "cell_type": "markdown",
   "metadata": {},
   "source": [
    "### iv. Repeat 1(b)iii by using SMOTE or any other method you know to remedy class imbalance. Report your conclusions about the classifiers you trained."
   ]
  },
  {
   "cell_type": "markdown",
   "metadata": {},
   "source": [
    "#### SMOTE technique was used."
   ]
  },
  {
   "cell_type": "code",
   "execution_count": 141,
   "metadata": {},
   "outputs": [],
   "source": [
    "from imblearn.over_sampling import SMOTE "
   ]
  },
  {
   "cell_type": "code",
   "execution_count": 144,
   "metadata": {},
   "outputs": [],
   "source": [
    "sm=SMOTE()\n",
    "X_res1, Y1_res = sm.fit_sample(Xtrain, Y1train)\n",
    "X_res2, Y2_res = sm.fit_sample(Xtrain, Y2train)\n",
    "X_res3, Y3_res = sm.fit_sample(Xtrain, Y3train)\n",
    "\n"
   ]
  },
  {
   "cell_type": "code",
   "execution_count": 145,
   "metadata": {},
   "outputs": [
    {
     "name": "stdout",
     "output_type": "stream",
     "text": [
      "100000\n"
     ]
    }
   ],
   "source": [
    "Best_CVscore7=0\n",
    "Best_C7=0\n",
    "\n",
    "C=[0.001,0.01,0.1,1,10,100,1000,10000,100000]\n",
    "for i in C:\n",
    "    model=LinearSVC(penalty='l1',dual=False,C=i)\n",
    "    CV_score = cross_val_score(model, X_res1, Y1_res, cv=10, scoring='accuracy')  \n",
    "    Mean_score  =  np.mean(CV_score)\n",
    "    if Mean_score > Best_CVscore7:\n",
    "        Best_CVscore7 = Mean_score\n",
    "        Best_C7=i\n",
    "             \n",
    "print(Best_C7)\n",
    "\n",
    "clf = LinearSVC(penalty='l1',dual=False,C=Best_C7)\n",
    "clf.fit(X_res1, Y1_res)\n",
    "Y7predict=clf.predict(Xtest)"
   ]
  },
  {
   "cell_type": "code",
   "execution_count": 148,
   "metadata": {},
   "outputs": [
    {
     "name": "stdout",
     "output_type": "stream",
     "text": [
      "1000\n"
     ]
    }
   ],
   "source": [
    "Best_CVscore8=0\n",
    "Best_C8=0\n",
    "\n",
    "C=[0.001,0.01,0.1,1,10,100,1000,10000,100000]\n",
    "for i in C:\n",
    "    model=LinearSVC(penalty='l1',dual=False,C=i)\n",
    "    CV_score = cross_val_score(model, X_res2, Y2_res, cv=10, scoring='accuracy')  \n",
    "    Mean_score  =  np.mean(CV_score)\n",
    "    if Mean_score > Best_CVscore8:\n",
    "        Best_CVscore8 = Mean_score\n",
    "        Best_C8=i\n",
    "             \n",
    "print(Best_C8)\n",
    "\n",
    "clf = LinearSVC(penalty='l1',dual=False,C=Best_C8)\n",
    "clf.fit(X_res2, Y2_res)\n",
    "Y8predict=clf.predict(Xtest)"
   ]
  },
  {
   "cell_type": "code",
   "execution_count": 151,
   "metadata": {},
   "outputs": [
    {
     "name": "stdout",
     "output_type": "stream",
     "text": [
      "100\n"
     ]
    }
   ],
   "source": [
    "Best_CVscore9=0\n",
    "Best_C9=0\n",
    "\n",
    "C=[0.001,0.01,0.1,1,10,100,1000,10000,100000]\n",
    "for i in C:\n",
    "    model=LinearSVC(penalty='l1',dual=False,C=i)\n",
    "    CV_score = cross_val_score(model, X_res3, Y3_res, cv=10, scoring='accuracy')  \n",
    "    Mean_score  =  np.mean(CV_score)\n",
    "    if Mean_score > Best_CVscore9:\n",
    "        Best_CVscore9 = Mean_score\n",
    "        Best_C9=i\n",
    "             \n",
    "print(Best_C9)\n",
    "\n",
    "clf = LinearSVC(penalty='l1',dual=False,C=Best_C9)\n",
    "clf.fit(X_res3, Y3_res)\n",
    "Y9predict=clf.predict(Xtest)"
   ]
  },
  {
   "cell_type": "code",
   "execution_count": 217,
   "metadata": {},
   "outputs": [],
   "source": [
    "Y7predict=pd.Series(Y7predict)\n",
    "Y8predict=pd.Series(Y8predict)\n",
    "Y9predict=pd.Series(Y9predict)\n",
    "\n",
    "frames3=[Y7predict, Y8predict, Y9predict]\n",
    "YpredictC=pd.concat(frames3,axis=1)"
   ]
  },
  {
   "cell_type": "code",
   "execution_count": 221,
   "metadata": {},
   "outputs": [
    {
     "data": {
      "text/plain": [
       "0.8550254747568319"
      ]
     },
     "execution_count": 221,
     "metadata": {},
     "output_type": "execute_result"
    }
   ],
   "source": [
    "accuracy(Ytest,YpredictC)"
   ]
  },
  {
   "cell_type": "code",
   "execution_count": 225,
   "metadata": {},
   "outputs": [
    {
     "data": {
      "text/plain": [
       "0.07379959857958795"
      ]
     },
     "execution_count": 225,
     "metadata": {},
     "output_type": "execute_result"
    }
   ],
   "source": [
    "hamming(Ytest,YpredictC)"
   ]
  },
  {
   "cell_type": "markdown",
   "metadata": {},
   "source": [
    "#### Exact Match = 0.8550254747568319\n",
    "#### Hamming Loss = 0.07379959857958795"
   ]
  },
  {
   "cell_type": "markdown",
   "metadata": {},
   "source": [
    "#### Conclusions:-\n",
    "\n",
    "#### a) For SVM using Gaussian kernels and one versus all classifiers:-\n",
    "\n",
    "#### Exact match = 0.9087540528022232\n",
    "#### Hamming Loss = 0.05635324996140134\n",
    "\n",
    "#### b) For L1-penalized SVM:-\n",
    "\n",
    "#### Exact Match = 0.9092172301991662\n",
    "#### Hamming Loss = 0.05604446503010596\n",
    "\n",
    "#### c) For L1-penalized SVM using SMOTE technique:-\n",
    "\n",
    "#### Exact Match = 0.8550254747568319\n",
    "#### Hamming Loss = 0.07379959857958795\n",
    "\n",
    "#### Based on these observations, the exact match and hamming loss is similar for SVM using Gaussian kernels and L1-penalized SVM. When SMOTE technique is used, The exact match comes down drastically and hamming loss increases."
   ]
  }
 ],
 "metadata": {
  "kernelspec": {
   "display_name": "Python 3",
   "language": "python",
   "name": "python3"
  },
  "language_info": {
   "codemirror_mode": {
    "name": "ipython",
    "version": 3
   },
   "file_extension": ".py",
   "mimetype": "text/x-python",
   "name": "python",
   "nbconvert_exporter": "python",
   "pygments_lexer": "ipython3",
   "version": "3.6.5"
  }
 },
 "nbformat": 4,
 "nbformat_minor": 2
}
